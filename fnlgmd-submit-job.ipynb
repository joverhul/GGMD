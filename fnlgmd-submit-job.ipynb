{
  "cells": [
    {
      "cell_type": "code",
      "source": [
        "!az login"
      ],
      "outputs": [
        {
          "output_type": "stream",
          "name": "stdout",
          "text": "\u001b[93mTo sign in, use a web browser to open the page https://microsoft.com/devicelogin and enter the code F4BCXVUB2 to authenticate.\u001b[0m\n\u001b[93mThe following tenants require Multi-Factor Authentication (MFA). Use 'az login --tenant TENANT_ID' to explicitly login to a tenant.\u001b[0m\n\u001b[93m72f988bf-86f1-41af-91ab-2d7cd011db47 'Microsoft'\u001b[0m\n[\n  {\n    \"cloudName\": \"AzureCloud\",\n    \"homeTenantId\": \"14b77578-9773-42d5-8507-251ca2dc2b06\",\n    \"id\": \"c9b7bb83-3d11-4f71-9b1c-a744154ca8f9\",\n    \"isDefault\": true,\n    \"managedByTenants\": [],\n    \"name\": \"NIH.NHLBI.az.hop.dev\",\n    \"state\": \"Enabled\",\n    \"tenantId\": \"14b77578-9773-42d5-8507-251ca2dc2b06\",\n    \"user\": {\n      \"name\": \"overhulsejm@nih.gov\",\n      \"type\": \"user\"\n    }\n  }\n]\n"
        }
      ],
      "execution_count": 2,
      "metadata": {
        "jupyter": {
          "source_hidden": false,
          "outputs_hidden": false
        },
        "nteract": {
          "transient": {
            "deleting": false
          }
        }
      }
    },
    {
      "cell_type": "code",
      "source": [
        "!az extension add --name ml"
      ],
      "outputs": [
        {
          "output_type": "stream",
          "name": "stdout",
          "text": "\u001b[K - Downloading ..\r\u001b[K - Installing ..\r"
        }
      ],
      "execution_count": 3,
      "metadata": {
        "jupyter": {
          "source_hidden": false,
          "outputs_hidden": false
        },
        "nteract": {
          "transient": {
            "deleting": false
          }
        }
      }
    },
    {
      "cell_type": "code",
      "source": [
        "!az ml job create -f fnlgmd-submit.yaml"
      ],
      "outputs": [
        {
          "output_type": "stream",
          "name": "stdout",
          "text": "Class AutoDeleteSettingSchema: This is an experimental class, and may change at any time. Please see https://aka.ms/azuremlexperimental for more information.\nClass AutoDeleteConditionSchema: This is an experimental class, and may change at any time. Please see https://aka.ms/azuremlexperimental for more information.\nClass BaseAutoDeleteSettingSchema: This is an experimental class, and may change at any time. Please see https://aka.ms/azuremlexperimental for more information.\nClass IntellectualPropertySchema: This is an experimental class, and may change at any time. Please see https://aka.ms/azuremlexperimental for more information.\nClass ProtectionLevelSchema: This is an experimental class, and may change at any time. Please see https://aka.ms/azuremlexperimental for more information.\nClass BaseIntellectualPropertySchema: This is an experimental class, and may change at any time. Please see https://aka.ms/azuremlexperimental for more information.\nYour file exceeds 100 MB. If you experience low speeds, latency, or broken connections, we recommend using the AzCopyv10 tool for this file transfer.\n\nExample: azcopy copy '/mnt/batch/tasks/shared/LS_root/mounts/clusters/overhulsejm4/code/Users/overhulsejm/GGMD-parent/GGMD' 'https://naturalproduct4147943761.blob.core.windows.net/f8487174-84f9-4c22-a7bd-158e16a8baa9-ru1bdojs1tx94xqcz37gt72n45/GGMD' \n\nSee https://docs.microsoft.com/azure/storage/common/storage-use-azcopy-v10 for more information.\n\u001b[32mUploading GGMD (154.52 MBs): 100%|█| 154524865/154524865 [00:03<00:00, 46622204.\u001b[0m\n\u001b[39m\n\n{\n  \"code\": \"azureml:/subscriptions/c9b7bb83-3d11-4f71-9b1c-a744154ca8f9/resourceGroups/natural-product-gmd-jo/providers/Microsoft.MachineLearningServices/workspaces/naturalproductgmd/codes/b215aaf4-0260-49d1-b8c2-917a2b0a6b93/versions/1\",\n  \"command\": \"./script-fnlgmd.sh ${{inputs.smiles}} ${{inputs.total_vocab}} ${{inputs.model_zinc}} ${{outputs.generations}}\",\n  \"compute\": \"azureml:overhulse-cpu-cluster\",\n  \"creation_context\": {\n    \"created_at\": \"2024-05-24T22:18:27.915689+00:00\",\n    \"created_by\": \"Overhulse\",\n    \"created_by_type\": \"User\"\n  },\n  \"description\": \"Use fnlgmd.\",\n  \"display_name\": \"fnlgmd-test\",\n  \"environment\": \"azureml:gpu_trial_3:2\",\n  \"environment_variables\": {},\n  \"experiment_name\": \"fnlgmd-test\",\n  \"id\": \"azureml:/subscriptions/c9b7bb83-3d11-4f71-9b1c-a744154ca8f9/resourceGroups/natural-product-gmd-jo/providers/Microsoft.MachineLearningServices/workspaces/naturalproductgmd/jobs/musing_boniato_8nz4cs55f0\",\n  \"inputs\": {\n    \"model_zinc\": {\n      \"mode\": \"ro_mount\",\n      \"path\": \"azureml:zinc-model-epoch35:1\",\n      \"type\": \"uri_file\"\n    },\n    \"smiles\": {\n      \"mode\": \"ro_mount\",\n      \"path\": \"azureml:zinc-smiles:1\",\n      \"type\": \"uri_file\"\n    },\n    \"total_vocab\": {\n      \"mode\": \"ro_mount\",\n      \"path\": \"azureml:zinc-all-vocab:1\",\n      \"type\": \"uri_file\"\n    }\n  },\n  \"name\": \"musing_boniato_8nz4cs55f0\",\n  \"outputs\": {\n    \"default\": {\n      \"mode\": \"rw_mount\",\n      \"path\": \"azureml://datastores/workspaceartifactstore/ExperimentRun/dcid.musing_boniato_8nz4cs55f0\",\n      \"type\": \"uri_folder\"\n    },\n    \"generations\": {\n      \"mode\": \"rw_mount\",\n      \"type\": \"uri_folder\"\n    }\n  },\n  \"parameters\": {},\n  \"properties\": {\n    \"ContentSnapshotId\": \"d93ff108-f953-4a47-b3b0-e6e537afc400\",\n    \"_azureml.ClusterName\": \"overhulse-cpu-cluster\",\n    \"_azureml.ComputeTargetType\": \"amlctrain\"\n  },\n  \"resourceGroup\": \"natural-product-gmd-jo\",\n  \"resources\": {\n    \"instance_count\": 1,\n    \"properties\": {},\n    \"shm_size\": \"2g\"\n  },\n  \"services\": {\n    \"Studio\": {\n      \"endpoint\": \"https://ml.azure.com/runs/musing_boniato_8nz4cs55f0?wsid=/subscriptions/c9b7bb83-3d11-4f71-9b1c-a744154ca8f9/resourcegroups/natural-product-gmd-jo/workspaces/naturalproductgmd&tid=14b77578-9773-42d5-8507-251ca2dc2b06\",\n      \"type\": \"Studio\"\n    },\n    \"Tracking\": {\n      \"endpoint\": \"azureml://eastus2.api.azureml.ms/mlflow/v1.0/subscriptions/c9b7bb83-3d11-4f71-9b1c-a744154ca8f9/resourceGroups/natural-product-gmd-jo/providers/Microsoft.MachineLearningServices/workspaces/naturalproductgmd?\",\n      \"type\": \"Tracking\"\n    }\n  },\n  \"status\": \"Starting\",\n  \"tags\": {},\n  \"type\": \"command\"\n}\n\u001b[0m"
        }
      ],
      "execution_count": 2,
      "metadata": {
        "jupyter": {
          "source_hidden": false,
          "outputs_hidden": false
        },
        "nteract": {
          "transient": {
            "deleting": false
          }
        }
      }
    }
  ],
  "metadata": {
    "kernelspec": {
      "name": "python38-azureml",
      "language": "python",
      "display_name": "Python 3.8 - AzureML"
    },
    "language_info": {
      "name": "python",
      "version": "3.8.5",
      "mimetype": "text/x-python",
      "codemirror_mode": {
        "name": "ipython",
        "version": 3
      },
      "pygments_lexer": "ipython3",
      "nbconvert_exporter": "python",
      "file_extension": ".py"
    },
    "microsoft": {
      "ms_spell_check": {
        "ms_spell_check_language": "en"
      }
    },
    "nteract": {
      "version": "nteract-front-end@1.0.0"
    },
    "kernel_info": {
      "name": "python38-azureml"
    }
  },
  "nbformat": 4,
  "nbformat_minor": 2
}